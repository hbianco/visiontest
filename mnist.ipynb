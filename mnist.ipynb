{
 "cells": [
  {
   "cell_type": "code",
   "execution_count": 1,
   "metadata": {},
   "outputs": [],
   "source": [
    "%load_ext autoreload\n",
    "%autoreload 2\n",
    "%matplotlib inline"
   ]
  },
  {
   "cell_type": "code",
   "execution_count": 2,
   "metadata": {},
   "outputs": [],
   "source": [
    "#tests CNN architecture on classical MNIST data set"
   ]
  },
  {
   "cell_type": "code",
   "execution_count": 3,
   "metadata": {},
   "outputs": [],
   "source": [
    "import sys\n",
    "sys.path.append(\"/home/hb/Documents/projects/bbk/nb/\")\n",
    "import learning as learn\n",
    "import dataset"
   ]
  },
  {
   "cell_type": "code",
   "execution_count": 4,
   "metadata": {},
   "outputs": [],
   "source": [
    "#General libraries\n",
    "import pandas as pd\n",
    "import numpy as np\n",
    "from skimage import io, transform\n",
    "import matplotlib.pyplot as plt\n",
    "import cv2\n",
    "# Torch imports\n",
    "import torch\n",
    "import torch.utils.data\n",
    "from torch.nn import functional as F\n",
    "import torch.nn as nn\n",
    "from torch.autograd import Function\n",
    "import torchvision.datasets as ds\n",
    "from torch.nn.init import kaiming_normal_\n",
    "from torchvision.transforms.functional import normalize\n",
    "from torchvision.models import resnet\n",
    "# Loading bar\n",
    "from tqdm import tqdm_notebook as tqdm\n",
    "# debugger\n",
    "import pdb"
   ]
  },
  {
   "cell_type": "code",
   "execution_count": 5,
   "metadata": {},
   "outputs": [],
   "source": [
    "mnist_trainset = ds.MNIST(root='./data', train=True, download=False, transform=None)\n"
   ]
  },
  {
   "cell_type": "code",
   "execution_count": 6,
   "metadata": {},
   "outputs": [],
   "source": [
    "mnist_testset = ds.MNIST(root='./data', train=False, download=False, transform=None)"
   ]
  },
  {
   "cell_type": "code",
   "execution_count": 7,
   "metadata": {},
   "outputs": [
    {
     "data": {
      "text/plain": [
       "60000"
      ]
     },
     "execution_count": 7,
     "metadata": {},
     "output_type": "execute_result"
    }
   ],
   "source": [
    "len(mnist_trainset)"
   ]
  },
  {
   "cell_type": "code",
   "execution_count": 8,
   "metadata": {},
   "outputs": [
    {
     "data": {
      "text/plain": [
       "10000"
      ]
     },
     "execution_count": 8,
     "metadata": {},
     "output_type": "execute_result"
    }
   ],
   "source": [
    "len(mnist_testset)"
   ]
  },
  {
   "cell_type": "code",
   "execution_count": 9,
   "metadata": {},
   "outputs": [
    {
     "data": {
      "text/plain": [
       "torchvision.datasets.mnist.MNIST"
      ]
     },
     "execution_count": 9,
     "metadata": {},
     "output_type": "execute_result"
    }
   ],
   "source": [
    "type(mnist_trainset)"
   ]
  },
  {
   "cell_type": "code",
   "execution_count": 10,
   "metadata": {},
   "outputs": [],
   "source": [
    "#Turn image dataset to numbers\n",
    "im_set = [(np.array(x).reshape(-1,28,28),y) for (x, y) in mnist_trainset]"
   ]
  },
  {
   "cell_type": "code",
   "execution_count": 11,
   "metadata": {},
   "outputs": [],
   "source": [
    "image_train_set = dataset.ImageData([(np.array(x).reshape(-1,28,28),y) for (x, y) in mnist_trainset])\n",
    "image_test_set = dataset.ImageData([(np.array(x).reshape(-1,28,28),y) for (x, y) in mnist_testset])"
   ]
  },
  {
   "cell_type": "code",
   "execution_count": 12,
   "metadata": {},
   "outputs": [],
   "source": [
    "tr = torch.utils.data.DataLoader(image_train_set, batch_size=512)\n",
    "te = torch.utils.data.DataLoader(image_test_set, batch_size=512)"
   ]
  },
  {
   "cell_type": "code",
   "execution_count": 13,
   "metadata": {},
   "outputs": [],
   "source": [
    "# Device configuration\n",
    "device = torch.device('cuda' if torch.cuda.is_available() else 'cpu')\n",
    "# use pytoch benchmarking to choose the best algorithm for current hardware.\n",
    "if device.type=='cuda':\n",
    "    torch.backends.cudnn.benchmark = True"
   ]
  },
  {
   "cell_type": "code",
   "execution_count": 14,
   "metadata": {},
   "outputs": [],
   "source": [
    "import architecture as ar"
   ]
  },
  {
   "cell_type": "code",
   "execution_count": 45,
   "metadata": {},
   "outputs": [],
   "source": [
    "model = ar.SimpleConv(1,[128, 256, 512 ],[3, 3, 3],10,stride=[1, 1, 1], batch_norm=False, dropout=0.0).to(device)"
   ]
  },
  {
   "cell_type": "code",
   "execution_count": 46,
   "metadata": {},
   "outputs": [],
   "source": [
    "criterion = torch.nn.CrossEntropyLoss()#F.binary_cross_entropy"
   ]
  },
  {
   "cell_type": "code",
   "execution_count": 17,
   "metadata": {},
   "outputs": [],
   "source": [
    "loss_metrics = []"
   ]
  },
  {
   "cell_type": "code",
   "execution_count": 47,
   "metadata": {},
   "outputs": [],
   "source": [
    "lr_trldr = torch.utils.data.DataLoader(image_train_set, batch_size=512, shuffle=True, drop_last=False)\n",
    "lr_mod = ar.SimpleConv(1,[128, 256, 512],[3, 3, 3], 10,stride=[1,1, 1], batch_norm=False, dropout=0.0).to(device)"
   ]
  },
  {
   "cell_type": "code",
   "execution_count": 48,
   "metadata": {
    "scrolled": true
   },
   "outputs": [
    {
     "data": {
      "image/png": "[encoded data removed]",
      "text/plain": [
       "<Figure size 432x288 with 1 Axes>"
      ]
     },
     "metadata": {
      "needs_background": "light"
     },
     "output_type": "display_data"
    }
   ],
   "source": [
    "l_rate = learn.Learning_rate()\n",
    "l_rate.find(lr_mod, lr_trldr,criterion, device, start_lr=1e-6, end_lr=1e1, cycle=1,\n",
    "           target_callback = lambda x: x.long())\n",
    "l_rate.plot_lr()"
   ]
  },
  {
   "cell_type": "code",
   "execution_count": 49,
   "metadata": {},
   "outputs": [
    {
     "name": "stdout",
     "output_type": "stream",
     "text": [
      "1 loss: 0.0037  validation: 0.0032 accuracy 48.77% validation accuracy 86.58%\n",
      "2 loss: 0.0030  validation: 0.0030 accuracy 93.47% validation accuracy 93.65%\n",
      "3 loss: 0.0029  validation: 0.0030 accuracy 96.16% validation accuracy 97.03%\n",
      "4 loss: 0.0029  validation: 0.0030 accuracy 97.09% validation accuracy 97.66%\n",
      "5 loss: 0.0029  validation: 0.0030 accuracy 97.55% validation accuracy 97.90%\n",
      "6 loss: 0.0029  validation: 0.0030 accuracy 97.92% validation accuracy 98.20%\n",
      "7 loss: 0.0029  validation: 0.0030 accuracy 98.12% validation accuracy 97.66%\n",
      "8 loss: 0.0029  validation: 0.0030 accuracy 98.26% validation accuracy 98.12%\n",
      "Finished Training.\n"
     ]
    }
   ],
   "source": [
    "metr = learn.fit(model, tr, 0.2, 8, criterion, device, optimiser='SGD',\n",
    "                 valid_data=te, save_metrics=True, loading_bar=False, task='class',\n",
    "                 target_callback = lambda x: x.long(),\n",
    "                 one_cycle=False, w_decay=0, \n",
    "                 multiple_categories=True\n",
    "                )"
   ]
  }
 ],
 "metadata": {
  "kernelspec": {
   "display_name": "Python 3",
   "language": "python",
   "name": "python3"
  },
  "language_info": {
   "codemirror_mode": {
    "name": "ipython",
    "version": 3
   },
   "file_extension": ".py",
   "mimetype": "text/x-python",
   "name": "python",
   "nbconvert_exporter": "python",
   "pygments_lexer": "ipython3",
   "version": "3.7.4"
  }
 },
 "nbformat": 4,
 "nbformat_minor": 2
}
